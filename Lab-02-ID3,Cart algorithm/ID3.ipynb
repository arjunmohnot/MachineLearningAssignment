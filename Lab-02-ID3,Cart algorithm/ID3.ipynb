{
 "cells": [
  {
   "cell_type": "markdown",
   "metadata": {},
   "source": [
    "# ID3 Algorithm"
   ]
  },
  {
   "cell_type": "markdown",
   "metadata": {},
   "source": [
    "<img src=\"https://avatars0.githubusercontent.com/u/33459977?s=80&v=4\" align=\"left\"/>\n",
    "\n",
    "---------------------------------------------------------------------------\n",
    "About\n",
    "=====\n",
    "\n",
    "- **ARJUN MOHNOT**\n",
    "- E17CSE102\n",
    "- EB04\n",
    "- Mobile: +91-7733993964\n",
    "- [Website](https://arjun009.github.io)\n",
    "- [WhatsApp](https://wa.me/917733993964?text=Hey%20Arjun%20Mohnot,%20I%27m%20contacting%20you%20from%20your%20Jupyter%20Notebook,%20A.I.-M.L.)\n",
    "- [PlayStore](https://play.google.com/store/apps/developer?id=ARJUN+MOHNOT)\n",
    "\n",
    "---------------------------------------------------------------------------"
   ]
  },
  {
   "cell_type": "markdown",
   "metadata": {},
   "source": [
    "# Importing libraries"
   ]
  },
  {
   "cell_type": "code",
   "execution_count": 3,
   "metadata": {},
   "outputs": [],
   "source": [
    "import pandas as pd\n",
    "import numpy as np\n",
    "from collections import Counter"
   ]
  },
  {
   "cell_type": "markdown",
   "metadata": {},
   "source": [
    "# Opening Dataframe"
   ]
  },
  {
   "cell_type": "code",
   "execution_count": 4,
   "metadata": {},
   "outputs": [],
   "source": [
    "openFile=pd.read_csv(\"DatasetTwo.csv\")\n"
   ]
  },
  {
   "cell_type": "code",
   "execution_count": 5,
   "metadata": {},
   "outputs": [
    {
     "data": {
      "text/plain": [
       "['Branch', 'CGPA', 'Gamer', 'Movie_Fanatic', 'Committed?']"
      ]
     },
     "execution_count": 5,
     "metadata": {},
     "output_type": "execute_result"
    }
   ],
   "source": [
    "#Extract no. of features in the dataset through selected columns\n",
    "colD=[i for i in openFile][2:] # do slicing here\n",
    "\n",
    "#Printed list of column name will be considered for features\n",
    "colD"
   ]
  },
  {
   "cell_type": "code",
   "execution_count": 6,
   "metadata": {},
   "outputs": [
    {
     "data": {
      "text/html": [
       "<div>\n",
       "<style scoped>\n",
       "    .dataframe tbody tr th:only-of-type {\n",
       "        vertical-align: middle;\n",
       "    }\n",
       "\n",
       "    .dataframe tbody tr th {\n",
       "        vertical-align: top;\n",
       "    }\n",
       "\n",
       "    .dataframe thead th {\n",
       "        text-align: right;\n",
       "    }\n",
       "</style>\n",
       "<table border=\"1\" class=\"dataframe\">\n",
       "  <thead>\n",
       "    <tr style=\"text-align: right;\">\n",
       "      <th></th>\n",
       "      <th>Unnamed: 0</th>\n",
       "      <th>S.No</th>\n",
       "      <th>Branch</th>\n",
       "      <th>CGPA</th>\n",
       "      <th>Gamer</th>\n",
       "      <th>Movie_Fanatic</th>\n",
       "      <th>Committed?</th>\n",
       "    </tr>\n",
       "  </thead>\n",
       "  <tbody>\n",
       "    <tr>\n",
       "      <th>0</th>\n",
       "      <td>0</td>\n",
       "      <td>1</td>\n",
       "      <td>CSE</td>\n",
       "      <td>High</td>\n",
       "      <td>Yes</td>\n",
       "      <td>No</td>\n",
       "      <td>No</td>\n",
       "    </tr>\n",
       "    <tr>\n",
       "      <th>1</th>\n",
       "      <td>1</td>\n",
       "      <td>2</td>\n",
       "      <td>CSE</td>\n",
       "      <td>Low</td>\n",
       "      <td>Yes</td>\n",
       "      <td>No</td>\n",
       "      <td>No</td>\n",
       "    </tr>\n",
       "    <tr>\n",
       "      <th>2</th>\n",
       "      <td>2</td>\n",
       "      <td>3</td>\n",
       "      <td>CSE</td>\n",
       "      <td>High</td>\n",
       "      <td>Yes</td>\n",
       "      <td>Yes</td>\n",
       "      <td>No</td>\n",
       "    </tr>\n",
       "    <tr>\n",
       "      <th>3</th>\n",
       "      <td>3</td>\n",
       "      <td>4</td>\n",
       "      <td>CSE</td>\n",
       "      <td>High</td>\n",
       "      <td>No</td>\n",
       "      <td>No</td>\n",
       "      <td>Yes</td>\n",
       "    </tr>\n",
       "    <tr>\n",
       "      <th>4</th>\n",
       "      <td>4</td>\n",
       "      <td>5</td>\n",
       "      <td>CSE</td>\n",
       "      <td>Low</td>\n",
       "      <td>No</td>\n",
       "      <td>Yes</td>\n",
       "      <td>Yes</td>\n",
       "    </tr>\n",
       "    <tr>\n",
       "      <th>5</th>\n",
       "      <td>5</td>\n",
       "      <td>6</td>\n",
       "      <td>ECE</td>\n",
       "      <td>Low</td>\n",
       "      <td>Yes</td>\n",
       "      <td>No</td>\n",
       "      <td>No</td>\n",
       "    </tr>\n",
       "    <tr>\n",
       "      <th>6</th>\n",
       "      <td>6</td>\n",
       "      <td>7</td>\n",
       "      <td>ECE</td>\n",
       "      <td>High</td>\n",
       "      <td>Yes</td>\n",
       "      <td>Yes</td>\n",
       "      <td>Yes</td>\n",
       "    </tr>\n",
       "    <tr>\n",
       "      <th>7</th>\n",
       "      <td>7</td>\n",
       "      <td>8</td>\n",
       "      <td>ECE</td>\n",
       "      <td>Low</td>\n",
       "      <td>Yes</td>\n",
       "      <td>Yes</td>\n",
       "      <td>No</td>\n",
       "    </tr>\n",
       "    <tr>\n",
       "      <th>8</th>\n",
       "      <td>8</td>\n",
       "      <td>9</td>\n",
       "      <td>ECE</td>\n",
       "      <td>High</td>\n",
       "      <td>Yes</td>\n",
       "      <td>Yes</td>\n",
       "      <td>Yes</td>\n",
       "    </tr>\n",
       "    <tr>\n",
       "      <th>9</th>\n",
       "      <td>9</td>\n",
       "      <td>10</td>\n",
       "      <td>ECE</td>\n",
       "      <td>High</td>\n",
       "      <td>No</td>\n",
       "      <td>Yes</td>\n",
       "      <td>Yes</td>\n",
       "    </tr>\n",
       "    <tr>\n",
       "      <th>10</th>\n",
       "      <td>10</td>\n",
       "      <td>11</td>\n",
       "      <td>MECH</td>\n",
       "      <td>High</td>\n",
       "      <td>Yes</td>\n",
       "      <td>Yes</td>\n",
       "      <td>No</td>\n",
       "    </tr>\n",
       "    <tr>\n",
       "      <th>11</th>\n",
       "      <td>11</td>\n",
       "      <td>12</td>\n",
       "      <td>MECH</td>\n",
       "      <td>High</td>\n",
       "      <td>No</td>\n",
       "      <td>No</td>\n",
       "      <td>No</td>\n",
       "    </tr>\n",
       "    <tr>\n",
       "      <th>12</th>\n",
       "      <td>12</td>\n",
       "      <td>13</td>\n",
       "      <td>MECH</td>\n",
       "      <td>High</td>\n",
       "      <td>No</td>\n",
       "      <td>No</td>\n",
       "      <td>Yes</td>\n",
       "    </tr>\n",
       "    <tr>\n",
       "      <th>13</th>\n",
       "      <td>13</td>\n",
       "      <td>14</td>\n",
       "      <td>MECH</td>\n",
       "      <td>Low</td>\n",
       "      <td>No</td>\n",
       "      <td>No</td>\n",
       "      <td>Yes</td>\n",
       "    </tr>\n",
       "    <tr>\n",
       "      <th>14</th>\n",
       "      <td>14</td>\n",
       "      <td>15</td>\n",
       "      <td>MECH</td>\n",
       "      <td>Low</td>\n",
       "      <td>No</td>\n",
       "      <td>No</td>\n",
       "      <td>Yes</td>\n",
       "    </tr>\n",
       "  </tbody>\n",
       "</table>\n",
       "</div>"
      ],
      "text/plain": [
       "    Unnamed: 0  S.No Branch  CGPA Gamer Movie_Fanatic Committed?\n",
       "0            0     1    CSE  High   Yes            No         No\n",
       "1            1     2    CSE   Low   Yes            No         No\n",
       "2            2     3    CSE  High   Yes           Yes         No\n",
       "3            3     4    CSE  High    No            No        Yes\n",
       "4            4     5    CSE   Low    No           Yes        Yes\n",
       "5            5     6    ECE   Low   Yes            No         No\n",
       "6            6     7    ECE  High   Yes           Yes        Yes\n",
       "7            7     8    ECE   Low   Yes           Yes         No\n",
       "8            8     9    ECE  High   Yes           Yes        Yes\n",
       "9            9    10    ECE  High    No           Yes        Yes\n",
       "10          10    11   MECH  High   Yes           Yes         No\n",
       "11          11    12   MECH  High    No            No         No\n",
       "12          12    13   MECH  High    No            No        Yes\n",
       "13          13    14   MECH   Low    No            No        Yes\n",
       "14          14    15   MECH   Low    No            No        Yes"
      ]
     },
     "execution_count": 6,
     "metadata": {},
     "output_type": "execute_result"
    }
   ],
   "source": [
    "openFile"
   ]
  },
  {
   "cell_type": "code",
   "execution_count": 7,
   "metadata": {},
   "outputs": [],
   "source": [
    "#openFile[openFile['Outlook']=='Sunny']"
   ]
  },
  {
   "cell_type": "markdown",
   "metadata": {},
   "source": [
    "# Entropy (Entropy(S) = ∑ – p(I) . log2p(I))"
   ]
  },
  {
   "cell_type": "code",
   "execution_count": 8,
   "metadata": {},
   "outputs": [
    {
     "data": {
      "text/plain": [
       "0.9967916319816366"
      ]
     },
     "execution_count": 8,
     "metadata": {},
     "output_type": "execute_result"
    }
   ],
   "source": [
    "Yname=colD[-1]\n",
    "def entropy(df,Yname=colD[-1]):\n",
    "    \n",
    "    dfDict=dict(Counter(df[Yname]))\n",
    "    totalElements=sum(dfDict.values())\n",
    "    entropy=0\n",
    "    \n",
    "    for i in dfDict:\n",
    "        entropy-=(dfDict[i]/totalElements)*(np.log2(dfDict[i]/totalElements))\n",
    "    if entropy==0:\n",
    "        if len(dfDict)==1:\n",
    "            entropy=str(list(dfDict.keys())[0])\n",
    "    return entropy    \n",
    "        \n",
    "\n",
    "\n",
    "#entropyY=entropy(openFile[openFile['Outlook']=='Sunny'])\n",
    "entropyY=entropy(openFile)\n",
    "\n",
    "entropyY"
   ]
  },
  {
   "cell_type": "markdown",
   "metadata": {},
   "source": [
    "# Information Gain (Gain(S, A) = Entropy(S) – ∑ [ p(S|A) . Entropy(S|A) ])"
   ]
  },
  {
   "cell_type": "code",
   "execution_count": 9,
   "metadata": {},
   "outputs": [],
   "source": [
    "def gain(decision,feature):\n",
    "    \n",
    "    df=decision\n",
    "    Xname=feature\n",
    "    uniqueFields=df[Xname].unique().tolist()\n",
    "    totalElements=len(df)\n",
    "    #print(\"length\",len(df))\n",
    "    gainScore=0\n",
    "\n",
    "\n",
    "    for i in uniqueFields:\n",
    "        currentDf=df[df[Xname]==i]\n",
    "        calculate=entropy(currentDf)\n",
    "       \n",
    "        if type(calculate)==str:\n",
    "            pass\n",
    "        else:\n",
    "            gainScore+=(len(currentDf)/totalElements)*entropy(currentDf)\n",
    "        \n",
    "        \n",
    "  \n",
    "       \n",
    "    #print(\"gainScore\",entropyY-gainScore)    \n",
    "    return gainScore\n",
    "        \n",
    "        "
   ]
  },
  {
   "cell_type": "markdown",
   "metadata": {},
   "source": [
    "# Helper Function"
   ]
  },
  {
   "cell_type": "code",
   "execution_count": 10,
   "metadata": {},
   "outputs": [],
   "source": [
    "def helperfunction(dataframe,root):\n",
    "    \n",
    "    Columns=colD[:-1] #ColY\n",
    "    start=dataframe[root].unique().tolist()\n",
    "    #print(start)\n",
    "    d={}\n",
    "    for i in start:\n",
    "        df=dataframe[dataframe[root]==i]\n",
    "        calculate=entropy(df)\n",
    "        count=0\n",
    "        for j in Columns:\n",
    "            if type(calculate)==str:\n",
    "                d[i]= \"@\"+calculate+\"@\"\n",
    "                break\n",
    "            else:\n",
    "                value=calculate-gain(df,j)\n",
    "                if count<value:\n",
    "                    count=value\n",
    "                    d[i]=j\n",
    "                #d[str(i)+\"-\"+str(j)]= calculate-gain(df,j)\n",
    "                \n",
    "    return d     \n",
    "    "
   ]
  },
  {
   "cell_type": "code",
   "execution_count": 11,
   "metadata": {},
   "outputs": [
    {
     "name": "stdout",
     "output_type": "stream",
     "text": [
      "Gamer\n",
      "{'Gamer': {'Yes': 'Branch', 'No': 'Branch'}}\n",
      "[{'Branch': {'CSE': '@No@', 'ECE': 'CGPA', 'MECH': '@No@'}}, {'Branch': {'CSE': '@Yes@', 'ECE': '@Yes@', 'MECH': 'CGPA'}}]\n",
      "CGPA Branch ECE\n",
      "CGPA Branch MECH\n"
     ]
    },
    {
     "data": {
      "text/plain": [
       "[{'Gamer': {'Yes': 'Branch', 'No': 'Branch'}},\n",
       " {'Branch': {'CSE': '@No@', 'ECE': 'CGPA', 'MECH': '@No@'}},\n",
       " {'Branch': {'CSE': '@Yes@', 'ECE': '@Yes@', 'MECH': 'CGPA'}},\n",
       " {'CGPA': {'High': '@Yes@'}},\n",
       " {'CGPA': {'High': '@No@'}}]"
      ]
     },
     "execution_count": 11,
     "metadata": {},
     "output_type": "execute_result"
    }
   ],
   "source": [
    "arrays=[]\n",
    "\n",
    "def helperRoot(dataframe,Columns,checkKey=\"\"):\n",
    "    dStart={}\n",
    "    d={}\n",
    "    for i in Columns:\n",
    "        d[i]=entropyY-gain(dataframe,i)\n",
    "    \n",
    "\n",
    "    zipper=dict(sorted(d.items(), key=lambda x: x[1],reverse=True))\n",
    "    #print(zipper)\n",
    "\n",
    "    for k,v in zipper.items():\n",
    "        if v>0:\n",
    "            if checkKey!=k:\n",
    "                root=k\n",
    "                break\n",
    "\n",
    "            \n",
    "    #Columns.remove(root)\n",
    "    dStart[root]=helperfunction(dataframe,root)\n",
    "    #print(dStart)\n",
    "    arrays.append(dStart)\n",
    "    return dStart\n",
    "\n",
    "# Main functions\n",
    "\n",
    "if __name__==\"__main__\":\n",
    "    cols=colD[:-1]\n",
    "    col=colD[:-1]\n",
    "\n",
    "    a=helperRoot(openFile,col)\n",
    "    key=str(list(a.keys())[0])\n",
    "    rootKey=key\n",
    "    print(rootKey)\n",
    "    col.remove(key)\n",
    "    arrayc=[]\n",
    "\n",
    "\n",
    "    for i in a[key]:\n",
    "        dataframe=openFile\n",
    "        value=a[key][i]\n",
    "        if value[0]!=\"@\":\n",
    "            dataframe=dataframe[dataframe[key]==i]\n",
    "            fun=helperRoot(dataframe,col)\n",
    "            arrayc.append(fun)\n",
    "    #print(arrayc,\"---------------------\")    \n",
    "\n",
    "    arrayq=arrayc\n",
    "    print(a)\n",
    "    print(arrayq)\n",
    "    again=[]\n",
    "    o=openFile[colD[-1]].unique().tolist()\n",
    "\n",
    "\n",
    "    for j in range(len(arrayq)):\n",
    "\n",
    "        key=str(list(arrayq[j].keys())[0])\n",
    "        for i in arrayq[j][key]:\n",
    "            try:\n",
    "                \n",
    "                dataframe=openFile[openFile[rootKey]==o[j]]\n",
    "                value=arrayq[j][key][i]\n",
    "                #print(\"value=---\",value,\"   !\")\n",
    "                if value[0]!=\"@\":\n",
    "                    print(value,key,i)\n",
    "                    dataframe=dataframe[dataframe[key]==i]\n",
    "                    #print(value)\n",
    "                    fun=helperRoot(dataframe,col,key)\n",
    "                    again.append(fun)\n",
    "            except Exception as e:\n",
    "                print(e)\n",
    "                pass\n",
    "\n",
    "    again        \n",
    "arrays"
   ]
  },
  {
   "cell_type": "markdown",
   "metadata": {},
   "source": [
    "# Creating Dictionary"
   ]
  },
  {
   "cell_type": "code",
   "execution_count": 12,
   "metadata": {},
   "outputs": [
    {
     "name": "stdout",
     "output_type": "stream",
     "text": [
      "Graph is\n",
      " {'Gamer': {'Yes': {'Branch': {'CSE': '@No@', 'ECE': {'CGPA': {'High': '@Yes@'}}, 'MECH': '@No@'}}, 'No': {'Branch': {'CSE': '@Yes@', 'ECE': '@Yes@', 'MECH': {'CGPA': {'High': '@No@'}}}}}}\n"
     ]
    }
   ],
   "source": [
    "age=arrays[::-1]\n",
    "\n",
    "\n",
    "for i in range(len(age)):\n",
    "\n",
    "    flag=0\n",
    "    k=list(age[i].keys())[0]\n",
    "    v=list(age[i].values())[0]\n",
    "    for j in range(len(age)):\n",
    "        if flag==1:\n",
    "            break\n",
    "        else:\n",
    "            if j!=i:\n",
    "                kk=list(age[j].keys())[0]\n",
    "                vv=list(age[j].values())[0]\n",
    "                \n",
    "                \n",
    "               \n",
    "                try:\n",
    "                    if len(set(list(vv.values())))!=len(list(vv.values())):\n",
    "                        gk=[mj for mj in vv.items()][::-1]\n",
    "                        vv=dict(gk)\n",
    "                except:\n",
    "                    pass\n",
    "                \n",
    "                \n",
    "                if k==kk:\n",
    "                    pass\n",
    "                else:\n",
    "                    for kkk,vvv in vv.items():\n",
    "\n",
    "                        \n",
    "                        if vvv==k:\n",
    "                            \n",
    "                            age[j][kk][kkk]=age[i]\n",
    "                            flag=1\n",
    "                            break\n",
    "                          \n",
    "                            \n",
    "\n",
    "               \n",
    "            else:\n",
    "                pass\n",
    "finalDict=age[-1]\n",
    "print(\"Graph is\\n\",finalDict)"
   ]
  },
  {
   "cell_type": "markdown",
   "metadata": {},
   "source": [
    "# Pydot Graph"
   ]
  },
  {
   "cell_type": "code",
   "execution_count": 16,
   "metadata": {},
   "outputs": [],
   "source": [
    "#import os\n",
    "from matplotlib import pyplot as plt\n",
    "#os.environ[\"PATH\"] += os.pathsep + 'C:/Program Files (x86)/Graphviz2.38/bin/'\n",
    "import pydot\n",
    "from PIL import Image\n",
    "\n",
    "\n",
    "menu = finalDict\n",
    "def draw(parent_name, child_name):\n",
    "    edge = pydot.Edge(parent_name, child_name)\n",
    "    graph.add_edge(edge)\n",
    "\n",
    "def visit(node, parent=None):\n",
    "    for k,v in node.items():\n",
    "        if isinstance(v, dict):\n",
    "            # We start with the root node whose parent is None\n",
    "            # we don't want to graph the None node\n",
    "            if parent:\n",
    "                draw(parent, k)\n",
    "            visit(v, k)\n",
    "        else:\n",
    "            draw(parent, k)\n",
    "            # drawing the label using a distinct name\n",
    "            draw(k, str(k)+'_'+str(v))\n",
    "\n",
    "graph = pydot.Dot(graph_type='graph')\n",
    "visit(menu)\n",
    "graph.write_png('graph.png')\n",
    "\n",
    "fname = 'graph.png'\n",
    "image = Image.open(fname)\n",
    "arr = np.asarray(image)\n",
    "plt.style.use(\"bmh\")\n",
    "plt.rcParams.update({\"figure.figsize\" : (25, 25),\n",
    "                     \"axes.facecolor\" : \"white\",\n",
    "                     \"axes.edgecolor\":  \"black\"})\n",
    "plt.imshow(arr)\n",
    "plt.show()"
   ]
  },
  {
   "attachments": {
    "graph.png": {
     "image/png": "[encoded data removed]"
    }
   },
   "cell_type": "markdown",
   "metadata": {},
   "source": [
    "![graph.png](attachment:graph.png)"
   ]
  },
  {
   "cell_type": "markdown",
   "metadata": {},
   "source": [
    "# Checking Model Accuracy"
   ]
  },
  {
   "cell_type": "code",
   "execution_count": 14,
   "metadata": {},
   "outputs": [
    {
     "name": "stdout",
     "output_type": "stream",
     "text": [
      "#######\n",
      " ------- Model Accuracy Is 66.66666666666666 % ------- \n",
      "#######\n"
     ]
    }
   ],
   "source": [
    "dataSet=pd.read_csv(\"dataset.csv\")\n",
    "\n",
    "def dfs(i,dictionary=finalDict,dataSet=dataSet):\n",
    "    try:\n",
    "        key=list(dictionary.keys())\n",
    "        ds=dataSet.loc[i,key]\n",
    "        value=list(dictionary.values())\n",
    "        return dfs(i,dictionary[key[0]][ds[0]],dataSet)\n",
    "    except Exception as e:\n",
    "    \n",
    "        value=dictionary[key[0]][ds[0]] \n",
    "        return value\n",
    "    \n",
    "    \n",
    "\n",
    "output=[]\n",
    "for i in range(len(dataSet)):\n",
    "    var=dfs(i,finalDict,dataSet)\n",
    "    output.append(var)\n",
    "\n",
    "output\n",
    "def dicToStr(i):\n",
    "    try:\n",
    "        o=i.values()\n",
    "        return dicToStr(o)\n",
    "    except:\n",
    "        return i\n",
    "    \n",
    "Foutput=[]\n",
    "for i in output:\n",
    "    if type(i)==str:\n",
    "        Foutput.append(i)\n",
    "        pass\n",
    "    else:\n",
    "        if type(i)==dict:\n",
    "            aa=dicToStr(i)\n",
    "            Foutput.append(list(list(aa)[0].values())[0])\n",
    "loop=0\n",
    "counter=0\n",
    "for last in dataSet[[i for i in dataSet][-1]]:\n",
    "    if last==Foutput[loop][1:-1]:\n",
    "        counter+=1\n",
    "    loop+=1\n",
    "print(\"#######\\n\",\"------- Model Accuracy Is\",(counter/len(dataSet))*100,\"% -------\",\"\\n#######\")"
   ]
  },
  {
   "cell_type": "code",
   "execution_count": null,
   "metadata": {},
   "outputs": [],
   "source": []
  },
  {
   "cell_type": "markdown",
   "metadata": {},
   "source": [
    "# Cart (Recursive Implementation)"
   ]
  },
  {
   "cell_type": "code",
   "execution_count": 17,
   "metadata": {},
   "outputs": [],
   "source": [
    "import pandas as pd\n",
    "import numpy as np\n",
    "from collections import Counter"
   ]
  },
  {
   "cell_type": "code",
   "execution_count": 18,
   "metadata": {},
   "outputs": [],
   "source": [
    "openFile=pd.read_csv(\"DatasetOne.csv\")\n",
    "#openFile = openFile.drop('S.No', axis = 1)\n",
    "openFile = openFile.drop('Day', axis = 1)\n",
    "openFile = openFile.drop('Unnamed: 0', axis = 1)\n",
    "dec_tree = dict()\n",
    "\n",
    "colD=[i for i in openFile]\n",
    "Yname=colD[-1]"
   ]
  },
  {
   "cell_type": "code",
   "execution_count": 19,
   "metadata": {},
   "outputs": [
    {
     "data": {
      "text/html": [
       "<div>\n",
       "<style scoped>\n",
       "    .dataframe tbody tr th:only-of-type {\n",
       "        vertical-align: middle;\n",
       "    }\n",
       "\n",
       "    .dataframe tbody tr th {\n",
       "        vertical-align: top;\n",
       "    }\n",
       "\n",
       "    .dataframe thead th {\n",
       "        text-align: right;\n",
       "    }\n",
       "</style>\n",
       "<table border=\"1\" class=\"dataframe\">\n",
       "  <thead>\n",
       "    <tr style=\"text-align: right;\">\n",
       "      <th></th>\n",
       "      <th>Outlook</th>\n",
       "      <th>Temp.</th>\n",
       "      <th>Humidity</th>\n",
       "      <th>Wind</th>\n",
       "      <th>Decision</th>\n",
       "    </tr>\n",
       "  </thead>\n",
       "  <tbody>\n",
       "    <tr>\n",
       "      <th>0</th>\n",
       "      <td>Sunny</td>\n",
       "      <td>Hot</td>\n",
       "      <td>High</td>\n",
       "      <td>Weak</td>\n",
       "      <td>No</td>\n",
       "    </tr>\n",
       "    <tr>\n",
       "      <th>1</th>\n",
       "      <td>Sunny</td>\n",
       "      <td>Hot</td>\n",
       "      <td>High</td>\n",
       "      <td>Strong</td>\n",
       "      <td>No</td>\n",
       "    </tr>\n",
       "    <tr>\n",
       "      <th>2</th>\n",
       "      <td>Overcast</td>\n",
       "      <td>Hot</td>\n",
       "      <td>High</td>\n",
       "      <td>Weak</td>\n",
       "      <td>Yes</td>\n",
       "    </tr>\n",
       "    <tr>\n",
       "      <th>3</th>\n",
       "      <td>Rain</td>\n",
       "      <td>Mild</td>\n",
       "      <td>High</td>\n",
       "      <td>Weak</td>\n",
       "      <td>Yes</td>\n",
       "    </tr>\n",
       "    <tr>\n",
       "      <th>4</th>\n",
       "      <td>Rain</td>\n",
       "      <td>Cool</td>\n",
       "      <td>Normal</td>\n",
       "      <td>Weak</td>\n",
       "      <td>Yes</td>\n",
       "    </tr>\n",
       "    <tr>\n",
       "      <th>5</th>\n",
       "      <td>Rain</td>\n",
       "      <td>Cool</td>\n",
       "      <td>Normal</td>\n",
       "      <td>Strong</td>\n",
       "      <td>No</td>\n",
       "    </tr>\n",
       "    <tr>\n",
       "      <th>6</th>\n",
       "      <td>Overcast</td>\n",
       "      <td>Cool</td>\n",
       "      <td>Normal</td>\n",
       "      <td>Strong</td>\n",
       "      <td>Yes</td>\n",
       "    </tr>\n",
       "    <tr>\n",
       "      <th>7</th>\n",
       "      <td>Sunny</td>\n",
       "      <td>Mild</td>\n",
       "      <td>High</td>\n",
       "      <td>Weak</td>\n",
       "      <td>No</td>\n",
       "    </tr>\n",
       "    <tr>\n",
       "      <th>8</th>\n",
       "      <td>Sunny</td>\n",
       "      <td>Cool</td>\n",
       "      <td>Normal</td>\n",
       "      <td>Weak</td>\n",
       "      <td>Yes</td>\n",
       "    </tr>\n",
       "    <tr>\n",
       "      <th>9</th>\n",
       "      <td>Rain</td>\n",
       "      <td>Mild</td>\n",
       "      <td>Normal</td>\n",
       "      <td>Weak</td>\n",
       "      <td>Yes</td>\n",
       "    </tr>\n",
       "    <tr>\n",
       "      <th>10</th>\n",
       "      <td>Sunny</td>\n",
       "      <td>Mild</td>\n",
       "      <td>Normal</td>\n",
       "      <td>Strong</td>\n",
       "      <td>Yes</td>\n",
       "    </tr>\n",
       "    <tr>\n",
       "      <th>11</th>\n",
       "      <td>Overcast</td>\n",
       "      <td>Mild</td>\n",
       "      <td>High</td>\n",
       "      <td>Strong</td>\n",
       "      <td>Yes</td>\n",
       "    </tr>\n",
       "    <tr>\n",
       "      <th>12</th>\n",
       "      <td>Overcast</td>\n",
       "      <td>Hot</td>\n",
       "      <td>Normal</td>\n",
       "      <td>Weak</td>\n",
       "      <td>Yes</td>\n",
       "    </tr>\n",
       "    <tr>\n",
       "      <th>13</th>\n",
       "      <td>Rain</td>\n",
       "      <td>Mild</td>\n",
       "      <td>High</td>\n",
       "      <td>Strong</td>\n",
       "      <td>No</td>\n",
       "    </tr>\n",
       "  </tbody>\n",
       "</table>\n",
       "</div>"
      ],
      "text/plain": [
       "     Outlook Temp. Humidity    Wind Decision\n",
       "0      Sunny   Hot     High    Weak       No\n",
       "1      Sunny   Hot     High  Strong       No\n",
       "2   Overcast   Hot     High    Weak      Yes\n",
       "3       Rain  Mild     High    Weak      Yes\n",
       "4       Rain  Cool   Normal    Weak      Yes\n",
       "5       Rain  Cool   Normal  Strong       No\n",
       "6   Overcast  Cool   Normal  Strong      Yes\n",
       "7      Sunny  Mild     High    Weak       No\n",
       "8      Sunny  Cool   Normal    Weak      Yes\n",
       "9       Rain  Mild   Normal    Weak      Yes\n",
       "10     Sunny  Mild   Normal  Strong      Yes\n",
       "11  Overcast  Mild     High  Strong      Yes\n",
       "12  Overcast   Hot   Normal    Weak      Yes\n",
       "13      Rain  Mild     High  Strong       No"
      ]
     },
     "execution_count": 19,
     "metadata": {},
     "output_type": "execute_result"
    }
   ],
   "source": [
    "openFile"
   ]
  },
  {
   "cell_type": "markdown",
   "metadata": {},
   "source": [
    "# Gini Index"
   ]
  },
  {
   "cell_type": "code",
   "execution_count": 20,
   "metadata": {},
   "outputs": [
    {
     "name": "stdout",
     "output_type": "stream",
     "text": [
      "{'Outlook': {'Sunny': 'Humidity', 'Overcast': 'Yes', 'Rain': 'Wind'}, 'Humidity': {'High': 'No', 'Normal': 'Yes'}, 'Wind': {'Weak': 'Yes', 'Strong': 'No'}} Outlook\n"
     ]
    }
   ],
   "source": [
    "def giniCalculate(df,colD=colD):\n",
    "    finals={}\n",
    "    for i in colD[:-1]:\n",
    "        counter=0\n",
    "        values=df[i].unique().tolist()\n",
    "        #print(values,\"5678values\")\n",
    "        parentDic=dict(Counter(df[i]))\n",
    "        totalElement=sum(parentDic.values())\n",
    "        d={}\n",
    "        for j in values:\n",
    "            tempdf=df[df[i]==j]\n",
    "            dic=dict(Counter(tempdf[Yname]))\n",
    "           \n",
    "            totalLength=sum(dic.values())\n",
    "            index=0\n",
    "            dicloop=list(dic.values())\n",
    "\n",
    "            for k in dicloop:\n",
    "\n",
    "\n",
    "                index+=pow((k/totalLength),2)\n",
    "\n",
    "\n",
    "            d[j]=index\n",
    "\n",
    "        for keys,values in parentDic.items():\n",
    "        \n",
    "            counter+=d[keys]*(values/totalElement)\n",
    "        \n",
    "        finals[i]=1-counter\n",
    "        \n",
    "   \n",
    "    zipper=dict(sorted(finals.items(), key=lambda x: x[1]))\n",
    "\n",
    "    for k,v in zipper.items():\n",
    "        return k\n",
    "\n",
    "    \n",
    "\n",
    "output=[]\n",
    "\n",
    "def cart(df):\n",
    "    \n",
    "    b=[i for i in df][:]\n",
    "    \n",
    "    if b==[]: return 0\n",
    "        \n",
    "    node=giniCalculate(df,b)\n",
    "    #print(node)\n",
    "    \n",
    "    \n",
    "    f = df[node].unique().tolist()\n",
    "    dec_tree[node] = dict(zip(f, [0 for _ in range(len(f))]))\n",
    "    for i, j in dec_tree[node].items():\n",
    "        try:\n",
    "            dfr = df[df[node] == i]\n",
    "            dfr = dfr.drop(node, axis = 1)\n",
    "            if len(dfr[Yname].unique().tolist())==1:\n",
    "                dec_tree[node][i] =list(dfr[Yname].unique().tolist())[0]\n",
    "\n",
    "\n",
    "            else:\n",
    "                    \n",
    "                node_inter = cart(dfr)\n",
    "                dec_tree[node][i] = node_inter\n",
    "\n",
    "        except Exception as e:\n",
    "            pass\n",
    "    \n",
    "    return node\n",
    "\n",
    "root = cart(openFile)\n",
    "print(dec_tree, root)\n",
    "\n",
    "    "
   ]
  },
  {
   "cell_type": "markdown",
   "metadata": {},
   "source": [
    "# Creating Graph"
   ]
  },
  {
   "cell_type": "code",
   "execution_count": 21,
   "metadata": {},
   "outputs": [
    {
     "name": "stdout",
     "output_type": "stream",
     "text": [
      "{'Outlook': {'Sunny': {'Humidity': {'High': 'No', 'Normal': 'Yes'}}, 'Overcast': 'Yes', 'Rain': {'Wind': {'Weak': 'Yes', 'Strong': 'No'}}}}\n"
     ]
    }
   ],
   "source": [
    "di={}\n",
    "for k,v in dec_tree.items():\n",
    "    try:\n",
    "        for i,o in v.items():\n",
    "            if o in dec_tree:\n",
    "                dec_tree[k][i]={o:dec_tree[o]}\n",
    "    except:\n",
    "        pass\n",
    "#print(dec_tree)\n",
    "        \n",
    "for k,v in dec_tree.items():\n",
    "    di[k]=v\n",
    "    break\n",
    "print(di)"
   ]
  },
  {
   "cell_type": "markdown",
   "metadata": {},
   "source": [
    "# Plotting Graph"
   ]
  },
  {
   "cell_type": "code",
   "execution_count": 23,
   "metadata": {},
   "outputs": [],
   "source": [
    "#import os\n",
    "from matplotlib import pyplot as plt\n",
    "#os.environ[\"PATH\"] += os.pathsep + 'C:/Program Files (x86)/Graphviz2.38/bin/'\n",
    "import pydot\n",
    "from PIL import Image\n",
    "\n",
    "\n",
    "menu = di\n",
    "def draw(parent_name, child_name):\n",
    "    edge = pydot.Edge(parent_name, child_name)\n",
    "    graph.add_edge(edge)\n",
    "\n",
    "def visit(node, parent=None):\n",
    "    for k,v in node.items():\n",
    "        if isinstance(v, dict):\n",
    "            # We start with the root node whose parent is None\n",
    "            # we don't want to graph the None node\n",
    "            if parent:\n",
    "                draw(parent, k)\n",
    "            visit(v, k)\n",
    "        else:\n",
    "            draw(parent, k)\n",
    "            # drawing the label using a distinct name\n",
    "            draw(k, str(k)+'_'+str(v))\n",
    "\n",
    "graph = pydot.Dot(graph_type='graph')\n",
    "visit(menu)\n",
    "graph.write_png('graph.png')\n",
    "\n",
    "fname = 'graph.png'\n",
    "image = Image.open(fname)\n",
    "arr = np.asarray(image)\n",
    "plt.style.use(\"bmh\")\n",
    "plt.rcParams.update({\"figure.figsize\" : (25, 25),\n",
    "                     \"axes.facecolor\" : \"white\",\n",
    "                     \"axes.edgecolor\":  \"black\"})\n",
    "plt.imshow(arr)\n",
    "plt.show()"
   ]
  },
  {
   "attachments": {
    "graph.png": {
     "image/png": "[encoded data removed]"
    }
   },
   "cell_type": "markdown",
   "metadata": {},
   "source": [
    "![graph.png](attachment:graph.png)"
   ]
  },
  {
   "cell_type": "markdown",
   "metadata": {},
   "source": [
    "# Cart (Through Sklearn)"
   ]
  },
  {
   "cell_type": "code",
   "execution_count": 24,
   "metadata": {},
   "outputs": [],
   "source": [
    "import os\n",
    "import numpy as np\n",
    "import pandas as pd\n",
    "import numpy as np, pandas as pd\n",
    "import matplotlib.pyplot as plt\n",
    "from sklearn import tree, metrics\n",
    "from sklearn.model_selection import train_test_split "
   ]
  },
  {
   "cell_type": "code",
   "execution_count": 25,
   "metadata": {},
   "outputs": [
    {
     "name": "stdout",
     "output_type": "stream",
     "text": [
      "['Branch', 'CGPA', 'Gamer', 'Movie_Fanatic', 'Committed?']\n",
      "<class 'pandas.core.frame.DataFrame'>\n",
      "RangeIndex: 15 entries, 0 to 14\n",
      "Data columns (total 5 columns):\n",
      "Branch           15 non-null object\n",
      "CGPA             15 non-null object\n",
      "Gamer            15 non-null object\n",
      "Movie_Fanatic    15 non-null object\n",
      "Committed?       15 non-null object\n",
      "dtypes: object(5)\n",
      "memory usage: 680.0+ bytes\n"
     ]
    }
   ],
   "source": [
    "data = pd.read_csv('DatasetTwo.csv')\n",
    "col=[i for i in data][2:]\n",
    "print(col)\n",
    "data = data.drop('Unnamed: 0', axis = 1)\n",
    "data = data.drop('S.No', axis = 1)\n",
    "\n",
    "data.head()\n",
    "data.info()"
   ]
  },
  {
   "cell_type": "code",
   "execution_count": 26,
   "metadata": {},
   "outputs": [],
   "source": [
    "data[col[-1]],class_names = pd.factorize(data[col[-1]])"
   ]
  },
  {
   "cell_type": "code",
   "execution_count": 27,
   "metadata": {},
   "outputs": [
    {
     "name": "stdout",
     "output_type": "stream",
     "text": [
      "Index(['No', 'Yes'], dtype='object')\n"
     ]
    }
   ],
   "source": [
    "print(class_names)"
   ]
  },
  {
   "cell_type": "code",
   "execution_count": 28,
   "metadata": {},
   "outputs": [
    {
     "data": {
      "text/html": [
       "<div>\n",
       "<style scoped>\n",
       "    .dataframe tbody tr th:only-of-type {\n",
       "        vertical-align: middle;\n",
       "    }\n",
       "\n",
       "    .dataframe tbody tr th {\n",
       "        vertical-align: top;\n",
       "    }\n",
       "\n",
       "    .dataframe thead th {\n",
       "        text-align: right;\n",
       "    }\n",
       "</style>\n",
       "<table border=\"1\" class=\"dataframe\">\n",
       "  <thead>\n",
       "    <tr style=\"text-align: right;\">\n",
       "      <th></th>\n",
       "      <th>Branch</th>\n",
       "      <th>CGPA</th>\n",
       "      <th>Gamer</th>\n",
       "      <th>Movie_Fanatic</th>\n",
       "      <th>Committed?</th>\n",
       "    </tr>\n",
       "  </thead>\n",
       "  <tbody>\n",
       "    <tr>\n",
       "      <th>0</th>\n",
       "      <td>0</td>\n",
       "      <td>0</td>\n",
       "      <td>0</td>\n",
       "      <td>0</td>\n",
       "      <td>0</td>\n",
       "    </tr>\n",
       "    <tr>\n",
       "      <th>1</th>\n",
       "      <td>0</td>\n",
       "      <td>1</td>\n",
       "      <td>0</td>\n",
       "      <td>0</td>\n",
       "      <td>0</td>\n",
       "    </tr>\n",
       "    <tr>\n",
       "      <th>2</th>\n",
       "      <td>0</td>\n",
       "      <td>0</td>\n",
       "      <td>0</td>\n",
       "      <td>1</td>\n",
       "      <td>0</td>\n",
       "    </tr>\n",
       "    <tr>\n",
       "      <th>3</th>\n",
       "      <td>0</td>\n",
       "      <td>0</td>\n",
       "      <td>1</td>\n",
       "      <td>0</td>\n",
       "      <td>1</td>\n",
       "    </tr>\n",
       "    <tr>\n",
       "      <th>4</th>\n",
       "      <td>0</td>\n",
       "      <td>1</td>\n",
       "      <td>1</td>\n",
       "      <td>1</td>\n",
       "      <td>1</td>\n",
       "    </tr>\n",
       "  </tbody>\n",
       "</table>\n",
       "</div>"
      ],
      "text/plain": [
       "   Branch  CGPA  Gamer  Movie_Fanatic  Committed?\n",
       "0       0     0      0              0           0\n",
       "1       0     1      0              0           0\n",
       "2       0     0      0              1           0\n",
       "3       0     0      1              0           1\n",
       "4       0     1      1              1           1"
      ]
     },
     "execution_count": 28,
     "metadata": {},
     "output_type": "execute_result"
    }
   ],
   "source": [
    "for i in col[:-1]:\n",
    "    data[i],_=pd.factorize(data[i])\n",
    "\n",
    "data.head()"
   ]
  },
  {
   "cell_type": "code",
   "execution_count": 29,
   "metadata": {},
   "outputs": [],
   "source": [
    "X = data.iloc[:,:-1]\n",
    "y = data.iloc[:,-1]"
   ]
  },
  {
   "cell_type": "code",
   "execution_count": 30,
   "metadata": {},
   "outputs": [],
   "source": [
    "# split data randomly into 70% training and 30% test\n",
    "X_train, X_test, y_train, y_test = train_test_split(X, y, test_size=0.3, random_state=0)"
   ]
  },
  {
   "cell_type": "code",
   "execution_count": 31,
   "metadata": {},
   "outputs": [
    {
     "data": {
      "text/plain": [
       "DecisionTreeClassifier(class_weight=None, criterion='entropy', max_depth=3,\n",
       "                       max_features=None, max_leaf_nodes=None,\n",
       "                       min_impurity_decrease=0.0, min_impurity_split=None,\n",
       "                       min_samples_leaf=1, min_samples_split=2,\n",
       "                       min_weight_fraction_leaf=0.0, presort=False,\n",
       "                       random_state=0, splitter='best')"
      ]
     },
     "execution_count": 31,
     "metadata": {},
     "output_type": "execute_result"
    }
   ],
   "source": [
    "dtree = tree.DecisionTreeClassifier(criterion='entropy', max_depth=3, random_state=0)\n",
    "dtree.fit(X_train, y_train)"
   ]
  },
  {
   "cell_type": "code",
   "execution_count": 32,
   "metadata": {},
   "outputs": [
    {
     "name": "stdout",
     "output_type": "stream",
     "text": [
      "Misclassified samples: 2\n",
      "Accuracy: 0.60\n"
     ]
    }
   ],
   "source": [
    "# use the model to make predictions with the test data\n",
    "y_pred = dtree.predict(X_test)\n",
    "# how did our model perform?\n",
    "count_misclassified = (y_test != y_pred).sum()\n",
    "print('Misclassified samples: {}'.format(count_misclassified))\n",
    "accuracy = metrics.accuracy_score(y_test, y_pred)\n",
    "print('Accuracy: {:.2f}'.format(accuracy))"
   ]
  },
  {
   "cell_type": "code",
   "execution_count": 35,
   "metadata": {},
   "outputs": [],
   "source": [
    "import graphviz\n",
    "feature_names = X.columns\n",
    "\n",
    "dot_data = tree.export_graphviz(dtree, out_file=None, filled=True, rounded=True,\n",
    "                                feature_names=feature_names,  \n",
    "                                class_names=class_names)\n",
    "graph = graphviz.Source(dot_data)  \n",
    "\n",
    "\n",
    "graph"
   ]
  },
  {
   "attachments": {
    "Untitled1.png": {
     "image/png": "[encoded data removed]"
    }
   },
   "cell_type": "markdown",
   "metadata": {},
   "source": [
    "![Untitled1.png](attachment:Untitled1.png)"
   ]
  },
  {
   "cell_type": "code",
   "execution_count": null,
   "metadata": {},
   "outputs": [],
   "source": []
  }
 ],
 "metadata": {
  "kernelspec": {
   "display_name": "Python 3",
   "language": "python",
   "name": "python3"
  },
  "language_info": {
   "codemirror_mode": {
    "name": "ipython",
    "version": 3
   },
   "file_extension": ".py",
   "mimetype": "text/x-python",
   "name": "python",
   "nbconvert_exporter": "python",
   "pygments_lexer": "ipython3",
   "version": "3.6.5"
  }
 },
 "nbformat": 4,
 "nbformat_minor": 2
}
