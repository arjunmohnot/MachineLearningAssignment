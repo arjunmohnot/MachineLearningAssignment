{
 "cells": [
  {
   "cell_type": "markdown",
   "metadata": {},
   "source": [
    "# &#x2B50; Linear Regression, Assignment-03, Part-01"
   ]
  },
  {
   "cell_type": "markdown",
   "metadata": {},
   "source": [
    "<img src=\"https://avatars0.githubusercontent.com/u/33459977?s=80&v=4\" align=\"left\"/>\n",
    "\n",
    "---------------------------------------------------------------------------\n",
    "About\n",
    "=====\n",
    "\n",
    "- **ARJUN MOHNOT**\n",
    "- E17CSE102\n",
    "- EB04\n",
    "- Mobile: +91-7733993964\n",
    "- [Website](https://arjun009.github.io)\n",
    "- [WhatsApp](https://wa.me/917733993964?text=Hey%20Arjun%20Mohnot,%20I%27m%20contacting%20you%20from%20your%20Jupyter%20Notebook,%20A.I.-M.L.)\n",
    "- [PlayStore](https://play.google.com/store/apps/developer?id=ARJUN+MOHNOT)\n",
    "\n",
    "---------------------------------------------------------------------------"
   ]
  },
  {
   "cell_type": "markdown",
   "metadata": {},
   "source": [
    "# Importing Libraries"
   ]
  },
  {
   "cell_type": "code",
   "execution_count": 20,
   "metadata": {},
   "outputs": [],
   "source": [
    "import pandas as pd\n",
    "from sklearn.preprocessing import MinMaxScaler\n",
    "import numpy as np\n",
    "import math\n",
    "from matplotlib import pyplot as plt"
   ]
  },
  {
   "cell_type": "markdown",
   "metadata": {},
   "source": [
    "# Preprocessing of data \n",
    "\n",
    " - Opening csv file\n",
    " - filling nan values with mean of the column\n",
    " - storing Y (Result) column in list and dropping the Y column from our main dataframe\n",
    " - doing hot encoding (using pandas dummy)\n",
    " - Merging the dummy dataframe with main dataframe\n",
    " - Removing the column in which hot encoding was performed (Here Hour Column)\n",
    " - Splitting the dataframe in training and testing dataset (108 rows are for training, last 27 rows are for testing the model.)"
   ]
  },
  {
   "cell_type": "code",
   "execution_count": 21,
   "metadata": {},
   "outputs": [],
   "source": [
    "openFiles=pd.read_csv(\"Behavior of the urban traffic of the city of Sao Paulo in Brazil.csv\")"
   ]
  },
  {
   "cell_type": "code",
   "execution_count": 22,
   "metadata": {},
   "outputs": [
    {
     "name": "stdout",
     "output_type": "stream",
     "text": [
      "○ There are 108 rows and 20 columns in testing dataframe\n"
     ]
    }
   ],
   "source": [
    "x=[i for i in openFiles]\n",
    "x[0]=\"Hour\"\n",
    "AVG=openFiles[x[-1]].mean()\n",
    "openFiles=openFiles.replace(to_replace = np.nan, value =AVG) \n",
    "openFiles.columns=x\n",
    "resultColumn=list(openFiles[x[-1]])\n",
    "openFiles=openFiles.drop(x[-1],axis=1)\n",
    "dummy=pd.get_dummies(openFiles.Hour)\n",
    "merge=pd.concat([openFiles,dummy],axis=1)\n",
    "openFiles=merge.drop(\"Hour\",axis=1)\n",
    "openFiles,test= openFiles.head(108),openFiles.tail(27)\n",
    "#openFiles\n",
    "print(\"○ There are {} rows and {} columns in testing dataframe\".format(openFiles.shape[0],openFiles.shape[1]))"
   ]
  },
  {
   "cell_type": "markdown",
   "metadata": {},
   "source": [
    "# Normalization\n",
    "- Making all columns value between 0 to 1 by using MinMaxScaler Normalization method\n",
    "- Intuition for normalization\n",
    "  - **value**=$\\frac{Max(Column)-value}{Max(Column)-Min(Column)}$"
   ]
  },
  {
   "cell_type": "code",
   "execution_count": 23,
   "metadata": {},
   "outputs": [],
   "source": [
    "minmax = MinMaxScaler()\n",
    "openFiles[[i for i in openFiles]] = minmax.fit_transform(openFiles[[i for i in openFiles]])\n",
    "#openFiles"
   ]
  },
  {
   "cell_type": "markdown",
   "metadata": {},
   "source": [
    "# Removal of feature(s)\n",
    "- Features that has mean less than 0.2 were removed\n",
    "- Initializing Theta {$\\theta$₀,$\\theta$₁,..,$\\theta$ₙ} to zero\n",
    "- $\\theta$₀ adds bias to the model while $\\theta$₁,..,$\\theta$ₙ gives translation to the predicted line."
   ]
  },
  {
   "cell_type": "code",
   "execution_count": 24,
   "metadata": {},
   "outputs": [
    {
     "name": "stdout",
     "output_type": "stream",
     "text": [
      "○ There are 108 rows and 3 columns in reduced testing dataframe\n",
      "○ Total 18 column(s) deleted\n",
      "○ Total 3 column(s) left in the resulted dataframe\n"
     ]
    }
   ],
   "source": [
    "theta0=0\n",
    "theta={}\n",
    "counter=1\n",
    "reduced=0\n",
    "for i in openFiles:\n",
    "    if openFiles[i].mean()<=0.2:\n",
    "        openFiles=openFiles.drop(i,axis=1)\n",
    "        counter+=1\n",
    "    else:\n",
    "        theta[i]=0\n",
    "        reduced+=1\n",
    "       \n",
    "        \n",
    "#openFiles\n",
    "print(\"○ There are {} rows and {} columns in reduced testing dataframe\".format(openFiles.shape[0],openFiles.shape[1]))\n",
    "print(\"○ Total {} column(s) deleted\".format(counter))\n",
    "print(\"○ Total {} column(s) left in the resulted dataframe\".format(reduced))"
   ]
  },
  {
   "cell_type": "markdown",
   "metadata": {},
   "source": [
    "# Training the Model\n",
    "\n",
    "- Learning rate {$\\alpha$} has been set to 0.001 based on many hit and trial basis.\n",
    "- Learning rate will govern the steps made during the gradient descent\n",
    "- Epoch (No. of times the model has been runned) is set to 119 based on hit and trial basis.\n",
    "- For detailed idea about linear regression formulae and how this code is formulated read the following [article](\"https://machinelearningmastery.com/linear-regression-tutorial-using-gradient-descent-for-machine-learning/\")"
   ]
  },
  {
   "cell_type": "code",
   "execution_count": 25,
   "metadata": {},
   "outputs": [
    {
     "name": "stdout",
     "output_type": "stream",
     "text": [
      "○ Value for the bias    𝜃₀ --> 3.6166980865196114\n",
      "○ Value for the feature 𝜃₁ --> -0.08818114520368031\n",
      "○ Value for the feature 𝜃₂ --> 1.2199513378295899\n",
      "○ Value for the feature 𝜃₃ --> 1.1252458600330375\n"
     ]
    }
   ],
   "source": [
    "learningRate=0.001\n",
    "rows=openFiles.shape[0]\n",
    "# Epoch=119\n",
    "for _ in range(119):\n",
    "    for i in range(rows):\n",
    "        value=0\n",
    "        value+=theta0*1\n",
    "        for j in openFiles:\n",
    "            value+=theta[j]*list(openFiles[j])[i]\n",
    "\n",
    "        error=value-resultColumn[i]\n",
    "        theta0=theta0-learningRate*(error)*1\n",
    "\n",
    "        for k in theta:\n",
    "            theta[k]=theta[k]-learningRate*(error)*list(openFiles[k])[i]\n",
    "\n",
    "# Printing value for 𝜃            \n",
    "SUB = str.maketrans(\"0123456789\", \"₀₁₂₃₄₅₆₇₈₉\")\n",
    "print(\"○ Value for the bias    𝜃0\".translate(SUB),\"--> {}\".format(theta0))\n",
    "counter=1\n",
    "for i in theta:\n",
    "    print(\"○ Value for the feature 𝜃{}\".format(counter).translate(SUB),\"--> {}\".format(theta[i]))\n",
    "    counter+=1\n",
    "        "
   ]
  },
  {
   "cell_type": "markdown",
   "metadata": {},
   "source": [
    "# Calculating MSE error \n",
    "- Printing predicted , actual value\n",
    "- Formulae to calculate **MSE**=$\\frac{\\sum_{i=1}^{n} {(Y_i-Y)^2}}{n}$ (Where Yᵢ is predicted value and Y is actual value, n is total number of testing data)\n"
   ]
  },
  {
   "cell_type": "code",
   "execution_count": 26,
   "metadata": {},
   "outputs": [
    {
     "name": "stdout",
     "output_type": "stream",
     "text": [
      "○ Predicted Value:  4.5721 | Actual Value:  4.0000\n",
      "○ Predicted Value:  4.3957 | Actual Value:  4.7541\n",
      "○ Predicted Value:  4.3957 | Actual Value:  5.0000\n",
      "○ Predicted Value:  4.2129 | Actual Value:  4.0000\n",
      "○ Predicted Value:  4.1312 | Actual Value:  2.0000\n",
      "○ Predicted Value:  2.8231 | Actual Value:  4.7541\n",
      "○ Predicted Value:  3.9548 | Actual Value:  1.0000\n",
      "○ Predicted Value:  3.9548 | Actual Value:  3.0000\n",
      "○ Predicted Value:  3.9548 | Actual Value:  9.0000\n",
      "○ Predicted Value:  3.7785 | Actual Value:  3.0000\n",
      "○ Predicted Value:  3.8667 | Actual Value:  9.0000\n",
      "○ Predicted Value:  2.7349 | Actual Value:  3.0000\n",
      "○ Predicted Value:  3.8667 | Actual Value:  4.7541\n",
      "○ Predicted Value:  4.0430 | Actual Value:  7.0000\n",
      "○ Predicted Value:  3.8601 | Actual Value:  3.0000\n",
      "○ Predicted Value:  3.9548 | Actual Value:  9.0000\n",
      "○ Predicted Value:  4.1312 | Actual Value:  9.0000\n",
      "○ Predicted Value:  2.8231 | Actual Value:  4.0000\n",
      "○ Predicted Value:  3.8667 | Actual Value:  3.0000\n",
      "○ Predicted Value:  3.6903 | Actual Value:  4.7541\n",
      "○ Predicted Value:  3.6021 | Actual Value:  6.0000\n",
      "○ Predicted Value:  3.3376 | Actual Value:  4.0000\n",
      "○ Predicted Value:  3.2429 | Actual Value:  8.0000\n",
      "○ Predicted Value:  3.2494 | Actual Value:  1.0000\n",
      "○ Predicted Value:  3.2429 | Actual Value:  7.0000\n",
      "○ Predicted Value:  3.3376 | Actual Value:  4.0000\n",
      "○ Predicted Value:  3.7785 | Actual Value:  1.0000\n"
     ]
    }
   ],
   "source": [
    "error=0\n",
    "predicted=[]\n",
    "actual=[]\n",
    "for i in range(27):\n",
    "    value=0\n",
    "    value+=theta0*1\n",
    "    for j in theta:\n",
    "        value+=theta[j]*list(test[j])[i]\n",
    "    error+=pow(value-resultColumn[108+i],2)\n",
    "    predicted.append(value)\n",
    "    actual.append(resultColumn[108+i])\n",
    "    print(\"○ Predicted Value: \",\"{0:.4f}\".format(value),\"| Actual Value: \",\"{0:.4f}\".format(resultColumn[108+i]))\n"
   ]
  },
  {
   "cell_type": "code",
   "execution_count": 27,
   "metadata": {},
   "outputs": [
    {
     "name": "stdout",
     "output_type": "stream",
     "text": [
      "○ MSE Error--> 7.0412\n"
     ]
    }
   ],
   "source": [
    "error=error/27\n",
    "print(\"○ MSE Error-->\",\"{0:.4f}\".format(error))"
   ]
  },
  {
   "cell_type": "markdown",
   "metadata": {},
   "source": [
    "# Plotting the Graph\n",
    "- Curve trying to fit with the most of the actual value"
   ]
  },
  {
   "cell_type": "code",
   "execution_count": 28,
   "metadata": {},
   "outputs": [
    {
     "data": {
      "image/png": "[encoded data removed]",
      "text/plain": [
       "<Figure size 432x288 with 1 Axes>"
      ]
     },
     "metadata": {
      "needs_background": "light"
     },
     "output_type": "display_data"
    }
   ],
   "source": [
    "assume=[i for i in range(27)]\n",
    "plt.scatter(assume,actual,c='r',label=\"Actual Value\")\n",
    "plt.plot(assume, predicted, color = 'blue',label=\"Predicted Value\")\n",
    "plt.ylabel(\"Slowness in Traffic %\")\n",
    "plt.xlabel(\"Testing Dataset Index\")\n",
    "plt.legend(loc=1,borderaxespad=-5)\n",
    "plt.show()"
   ]
  },
  {
   "cell_type": "code",
   "execution_count": null,
   "metadata": {},
   "outputs": [],
   "source": []
  },
  {
   "cell_type": "code",
   "execution_count": null,
   "metadata": {},
   "outputs": [],
   "source": []
  },
  {
   "cell_type": "code",
   "execution_count": null,
   "metadata": {},
   "outputs": [],
   "source": []
  }
 ],
 "metadata": {
  "kernelspec": {
   "display_name": "Python 3",
   "language": "python",
   "name": "python3"
  },
  "language_info": {
   "codemirror_mode": {
    "name": "ipython",
    "version": 3
   },
   "file_extension": ".py",
   "mimetype": "text/x-python",
   "name": "python",
   "nbconvert_exporter": "python",
   "pygments_lexer": "ipython3",
   "version": "3.6.5"
  }
 },
 "nbformat": 4,
 "nbformat_minor": 2
}
