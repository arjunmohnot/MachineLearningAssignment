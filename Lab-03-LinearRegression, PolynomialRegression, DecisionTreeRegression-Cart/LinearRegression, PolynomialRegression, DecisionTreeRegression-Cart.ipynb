{
 "cells": [
  {
   "cell_type": "markdown",
   "metadata": {},
   "source": [
    "# &#x2B50; Assignment-03, Part-02"
   ]
  },
  {
   "cell_type": "markdown",
   "metadata": {},
   "source": [
    "<img src=\"https://avatars0.githubusercontent.com/u/33459977?s=80&v=4\" align=\"left\"/>\n",
    "\n",
    "---------------------------------------------------------------------------\n",
    "About\n",
    "=====\n",
    "\n",
    "- **ARJUN MOHNOT**\n",
    "- E17CSE102\n",
    "- EB04\n",
    "- Mobile: +91-7733993964\n",
    "- [Website](https://arjun009.github.io)\n",
    "- [WhatsApp](https://wa.me/917733993964?text=Hey%20Arjun%20Mohnot,%20I%27m%20contacting%20you%20from%20your%20Jupyter%20Notebook,%20A.I.-M.L.)\n",
    "- [PlayStore](https://play.google.com/store/apps/developer?id=ARJUN+MOHNOT)\n",
    "\n",
    "---------------------------------------------------------------------------"
   ]
  },
  {
   "cell_type": "markdown",
   "metadata": {},
   "source": [
    "### Importing Libraries"
   ]
  },
  {
   "cell_type": "code",
   "execution_count": 149,
   "metadata": {},
   "outputs": [],
   "source": [
    "import pandas as pd\n",
    "from sklearn.preprocessing import MinMaxScaler\n",
    "import numpy as np\n",
    "import math\n",
    "import numpy\n",
    "import matplotlib.pyplot as plt\n",
    "import pandas\n",
    "from sklearn.model_selection import train_test_split\n",
    "from sklearn.linear_model import LinearRegression\n",
    "from sklearn.preprocessing import PolynomialFeatures\n",
    "from sklearn.tree import DecisionTreeRegressor"
   ]
  },
  {
   "cell_type": "markdown",
   "metadata": {},
   "source": [
    "### Preprocessing of data \n",
    "\n",
    " - Opening csv file\n",
    " - filling nan values with mean of the column\n",
    " - storing Y (Result) column in list and dropping the Y column from our main dataframe\n",
    " - doing hot encoding (using pandas dummy)\n",
    " - Merging the dummy dataframe with main dataframe\n",
    " - Removing the column in which hot encoding was performed (Here Hour Column)\n",
    " - Splitting the dataframe in training and testing dataset (108 rows are for training, last 27 rows are for testing the model.)"
   ]
  },
  {
   "cell_type": "code",
   "execution_count": 150,
   "metadata": {},
   "outputs": [],
   "source": [
    "openFiles=pd.read_csv(\"Behavior of the urban traffic of the city of Sao Paulo in Brazil.csv\")"
   ]
  },
  {
   "cell_type": "code",
   "execution_count": 151,
   "metadata": {},
   "outputs": [],
   "source": [
    "x=[i for i in openFiles]\n",
    "x[0]=\"Hour\"\n",
    "AVG=openFiles[x[-1]].mean()\n",
    "openFiles=openFiles.replace(to_replace = np.nan, value =AVG) \n",
    "openFiles.columns=x\n",
    "resultColumn=openFiles[x[-1]]\n",
    "openFiles=openFiles.drop(x[-1],axis=1)\n",
    "dummy=pd.get_dummies(openFiles.Hour)\n",
    "merge=pd.concat([openFiles,dummy],axis=1)\n",
    "openFiles=merge.drop(\"Hour\",axis=1)\n",
    "for i in openFiles:\n",
    "    if openFiles[i].mean()<=0.2:\n",
    "        openFiles=openFiles.drop(i,axis=1)\n",
    "minmax = MinMaxScaler()\n",
    "openFiles[[i for i in openFiles]] = minmax.fit_transform(openFiles[[i for i in openFiles]])\n",
    "openFiles=pd.concat([openFiles,resultColumn],axis=1)\n"
   ]
  },
  {
   "cell_type": "code",
   "execution_count": 152,
   "metadata": {},
   "outputs": [],
   "source": [
    "x = openFiles.iloc[:, :-1].values\n",
    "y = openFiles.iloc[:, -1].values\n",
    "xTrain, xTest, yTrain, yTest = train_test_split(x, y, train_size  = 4/5,shuffle=False )\n"
   ]
  },
  {
   "cell_type": "markdown",
   "metadata": {},
   "source": [
    "# \t&#x2B50; Linear Regression"
   ]
  },
  {
   "cell_type": "code",
   "execution_count": 153,
   "metadata": {},
   "outputs": [],
   "source": [
    "linearRegressor = LinearRegression()"
   ]
  },
  {
   "cell_type": "code",
   "execution_count": 154,
   "metadata": {},
   "outputs": [
    {
     "data": {
      "text/plain": [
       "LinearRegression(copy_X=True, fit_intercept=True, n_jobs=None, normalize=False)"
      ]
     },
     "execution_count": 154,
     "metadata": {},
     "output_type": "execute_result"
    }
   ],
   "source": [
    "linearRegressor.fit(xTrain, yTrain)"
   ]
  },
  {
   "cell_type": "code",
   "execution_count": 155,
   "metadata": {},
   "outputs": [
    {
     "name": "stdout",
     "output_type": "stream",
     "text": [
      "○ Predicted Value:  -0.9508 | Actual Value:  4.0000\n",
      "○ Predicted Value:  4.4781 | Actual Value:  4.7541\n",
      "○ Predicted Value:  5.4302 | Actual Value:  5.0000\n",
      "○ Predicted Value:  4.2250 | Actual Value:  4.0000\n",
      "○ Predicted Value:  3.8869 | Actual Value:  2.0000\n",
      "○ Predicted Value:  4.1618 | Actual Value:  4.7541\n",
      "○ Predicted Value:  5.3955 | Actual Value:  1.0000\n",
      "○ Predicted Value:  4.7512 | Actual Value:  3.0000\n",
      "○ Predicted Value:  5.1835 | Actual Value:  9.0000\n",
      "○ Predicted Value:  4.7880 | Actual Value:  3.0000\n",
      "○ Predicted Value:  5.0917 | Actual Value:  9.0000\n",
      "○ Predicted Value:  4.8184 | Actual Value:  3.0000\n",
      "○ Predicted Value:  4.1397 | Actual Value:  4.7541\n",
      "○ Predicted Value:  4.3232 | Actual Value:  7.0000\n",
      "○ Predicted Value:  4.0701 | Actual Value:  3.0000\n",
      "○ Predicted Value:  4.3271 | Actual Value:  9.0000\n",
      "○ Predicted Value:  4.7226 | Actual Value:  9.0000\n",
      "○ Predicted Value:  4.4778 | Actual Value:  4.0000\n",
      "○ Predicted Value:  4.2354 | Actual Value:  3.0000\n",
      "○ Predicted Value:  3.6196 | Actual Value:  4.7541\n",
      "○ Predicted Value:  4.3925 | Actual Value:  6.0000\n",
      "○ Predicted Value:  3.8970 | Actual Value:  4.0000\n",
      "○ Predicted Value:  3.4362 | Actual Value:  8.0000\n",
      "○ Predicted Value:  3.1609 | Actual Value:  1.0000\n",
      "○ Predicted Value:  3.3116 | Actual Value:  7.0000\n",
      "○ Predicted Value:  4.9653 | Actual Value:  4.0000\n",
      "○ Predicted Value:  4.5760 | Actual Value:  1.0000\n"
     ]
    }
   ],
   "source": [
    "yPrediction = linearRegressor.predict(xTest)\n",
    "\n",
    "for i in range(27):\n",
    "     print(\"○ Predicted Value: \",\"{0:.4f}\".format(yPrediction[i]),\"| Actual Value: \",\"{0:.4f}\".format(yTest[i]))"
   ]
  },
  {
   "cell_type": "markdown",
   "metadata": {},
   "source": [
    "### Calculating MSE error \n",
    "- Printing predicted , actual value\n",
    "- Formulae to calculate **MSE**=$\\frac{\\sum_{i=1}^{n} {(Y_i-Y)^2}}{n}$ (Where Yᵢ is predicted value and Y is actual value, n is total number of testing data)\n"
   ]
  },
  {
   "cell_type": "code",
   "execution_count": 156,
   "metadata": {},
   "outputs": [
    {
     "name": "stdout",
     "output_type": "stream",
     "text": [
      "7.212672281192738\n"
     ]
    }
   ],
   "source": [
    "error=0\n",
    "for i in range(len(yPrediction)):\n",
    "    error+=pow(yPrediction[i]-yTest[i],2)\n",
    "print(error/27)"
   ]
  },
  {
   "cell_type": "markdown",
   "metadata": {},
   "source": [
    "### Plotting the Graph\n",
    "- Curve trying to fit with the most of the actual value"
   ]
  },
  {
   "cell_type": "code",
   "execution_count": 157,
   "metadata": {},
   "outputs": [
    {
     "data": {
      "image/png": "[encoded data removed]",
      "text/plain": [
       "<Figure size 432x288 with 1 Axes>"
      ]
     },
     "metadata": {
      "needs_background": "light"
     },
     "output_type": "display_data"
    }
   ],
   "source": [
    "assume=[i for i in range(27)]\n",
    "plt.scatter(assume,yTest,c='r',label=\"Actual Value\")\n",
    "plt.plot(assume, yPrediction, color = 'blue',label=\"Predicted Value\")\n",
    "plt.ylabel(\"Slowness in Traffic %\")\n",
    "plt.xlabel(\"Testing Dataset Index\")\n",
    "plt.legend(loc=1,borderaxespad=-5)\n",
    "plt.show()"
   ]
  },
  {
   "cell_type": "markdown",
   "metadata": {},
   "source": [
    "# \t&#x2B50; Polynomial Regression\n"
   ]
  },
  {
   "cell_type": "code",
   "execution_count": 158,
   "metadata": {},
   "outputs": [
    {
     "name": "stdout",
     "output_type": "stream",
     "text": [
      "○ Predicted Value:  4.1797 | Actual Value:  4.0000\n",
      "○ Predicted Value:  4.8359 | Actual Value:  4.7541\n",
      "○ Predicted Value:  4.6094 | Actual Value:  5.0000\n",
      "○ Predicted Value:  3.5625 | Actual Value:  4.0000\n",
      "○ Predicted Value:  2.0469 | Actual Value:  2.0000\n",
      "○ Predicted Value:  4.2578 | Actual Value:  4.7541\n",
      "○ Predicted Value:  4.3203 | Actual Value:  1.0000\n",
      "○ Predicted Value:  2.8281 | Actual Value:  3.0000\n",
      "○ Predicted Value:  8.8438 | Actual Value:  9.0000\n",
      "○ Predicted Value:  3.0000 | Actual Value:  3.0000\n",
      "○ Predicted Value:  8.7969 | Actual Value:  9.0000\n",
      "○ Predicted Value:  3.1328 | Actual Value:  3.0000\n",
      "○ Predicted Value:  4.5703 | Actual Value:  4.7541\n",
      "○ Predicted Value:  7.0078 | Actual Value:  7.0000\n",
      "○ Predicted Value:  2.4922 | Actual Value:  3.0000\n",
      "○ Predicted Value:  8.7344 | Actual Value:  9.0000\n",
      "○ Predicted Value:  7.9062 | Actual Value:  9.0000\n",
      "○ Predicted Value:  4.4297 | Actual Value:  4.0000\n",
      "○ Predicted Value:  2.7969 | Actual Value:  3.0000\n",
      "○ Predicted Value:  5.1641 | Actual Value:  4.7541\n",
      "○ Predicted Value:  6.0938 | Actual Value:  6.0000\n",
      "○ Predicted Value:  4.0547 | Actual Value:  4.0000\n",
      "○ Predicted Value:  8.3047 | Actual Value:  8.0000\n",
      "○ Predicted Value:  0.9766 | Actual Value:  1.0000\n",
      "○ Predicted Value:  6.8438 | Actual Value:  7.0000\n",
      "○ Predicted Value:  4.0234 | Actual Value:  4.0000\n",
      "○ Predicted Value:  0.5391 | Actual Value:  1.0000\n"
     ]
    }
   ],
   "source": [
    "poly=PolynomialFeatures(degree=11)\n",
    "poly_x=poly.fit_transform(x)\n",
    "\n",
    "regressor=LinearRegression()\n",
    "regressor.fit(poly_x,y)\n",
    "z=regressor.predict(poly.fit_transform(xTest))\n",
    "\n",
    "\n",
    "for i in range(27):\n",
    "     print(\"○ Predicted Value: \",\"{0:.4f}\".format(z[i]),\"| Actual Value: \",\"{0:.4f}\".format(yTest[i]))\n"
   ]
  },
  {
   "cell_type": "markdown",
   "metadata": {},
   "source": [
    "### Calculating MSE error \n",
    "- Printing predicted , actual value\n",
    "- Formulae to calculate **MSE**=$\\frac{\\sum_{i=1}^{n} {(Y_i-Y)^2}}{n}$ (Where Yᵢ is predicted value and Y is actual value, n is total number of testing data)\n"
   ]
  },
  {
   "cell_type": "code",
   "execution_count": 159,
   "metadata": {},
   "outputs": [
    {
     "name": "stdout",
     "output_type": "stream",
     "text": [
      "0.5208857393540525\n"
     ]
    }
   ],
   "source": [
    "error=0\n",
    "for i in range(len(z)):\n",
    "    error+=pow(z[i]-yTest[i],2)\n",
    "print(error/27)"
   ]
  },
  {
   "cell_type": "markdown",
   "metadata": {},
   "source": [
    "### Plotting the Graph\n",
    "- Curve trying to fit with the most of the actual value"
   ]
  },
  {
   "cell_type": "code",
   "execution_count": 160,
   "metadata": {},
   "outputs": [
    {
     "data": {
      "image/png": "[encoded data removed]",
      "text/plain": [
       "<Figure size 432x288 with 1 Axes>"
      ]
     },
     "metadata": {
      "needs_background": "light"
     },
     "output_type": "display_data"
    }
   ],
   "source": [
    "assume=[i for i in range(27)]\n",
    "plt.scatter(assume,yTest,c='r',label=\"Actual Value\")\n",
    "plt.plot(assume, z, color = 'blue',label=\"Predicted Value\")\n",
    "plt.ylabel(\"Slowness in Traffic %\")\n",
    "plt.xlabel(\"Testing Dataset Index\")\n",
    "plt.legend(loc=1,borderaxespad=-5)\n",
    "plt.show()"
   ]
  },
  {
   "cell_type": "markdown",
   "metadata": {},
   "source": [
    "# \t&#x2B50; Descision Tree"
   ]
  },
  {
   "cell_type": "code",
   "execution_count": 161,
   "metadata": {},
   "outputs": [
    {
     "name": "stdout",
     "output_type": "stream",
     "text": [
      "○ Predicted Value:  4.0000 | Actual Value:  4.0000\n",
      "○ Predicted Value:  4.7541 | Actual Value:  4.7541\n",
      "○ Predicted Value:  3.0000 | Actual Value:  5.0000\n",
      "○ Predicted Value:  4.2514 | Actual Value:  4.0000\n",
      "○ Predicted Value:  4.0000 | Actual Value:  2.0000\n",
      "○ Predicted Value:  3.0000 | Actual Value:  4.7541\n",
      "○ Predicted Value:  8.0000 | Actual Value:  1.0000\n",
      "○ Predicted Value:  1.0000 | Actual Value:  3.0000\n",
      "○ Predicted Value:  8.0000 | Actual Value:  9.0000\n",
      "○ Predicted Value:  8.0000 | Actual Value:  3.0000\n",
      "○ Predicted Value:  8.0000 | Actual Value:  9.0000\n",
      "○ Predicted Value:  9.0000 | Actual Value:  3.0000\n",
      "○ Predicted Value:  1.0000 | Actual Value:  4.7541\n",
      "○ Predicted Value:  5.0000 | Actual Value:  7.0000\n",
      "○ Predicted Value:  3.0000 | Actual Value:  3.0000\n",
      "○ Predicted Value:  9.0000 | Actual Value:  9.0000\n",
      "○ Predicted Value:  7.0000 | Actual Value:  9.0000\n",
      "○ Predicted Value:  5.0000 | Actual Value:  4.0000\n",
      "○ Predicted Value:  2.5847 | Actual Value:  3.0000\n",
      "○ Predicted Value:  4.0000 | Actual Value:  4.7541\n",
      "○ Predicted Value:  1.0000 | Actual Value:  6.0000\n",
      "○ Predicted Value:  8.0000 | Actual Value:  4.0000\n",
      "○ Predicted Value:  1.0000 | Actual Value:  8.0000\n",
      "○ Predicted Value:  4.0000 | Actual Value:  1.0000\n",
      "○ Predicted Value:  4.0000 | Actual Value:  7.0000\n",
      "○ Predicted Value:  6.0000 | Actual Value:  4.0000\n",
      "○ Predicted Value:  1.0000 | Actual Value:  1.0000\n"
     ]
    }
   ],
   "source": [
    "regressor = DecisionTreeRegressor(random_state =1)\n",
    "regressor.fit(xTrain, yTrain)\n",
    "\n",
    "# Predicting a new result\n",
    "y_pred = regressor.predict(xTest)\n",
    "\n",
    "for i in range(27):\n",
    "     print(\"○ Predicted Value: \",\"{0:.4f}\".format(y_pred[i]),\"| Actual Value: \",\"{0:.4f}\".format(yTest[i]))"
   ]
  },
  {
   "cell_type": "markdown",
   "metadata": {},
   "source": [
    "### Calculating MSE error \n",
    "- Printing predicted , actual value\n",
    "- Formulae to calculate **MSE**=$\\frac{\\sum_{i=1}^{n} {(Y_i-Y)^2}}{n}$ (Where Yᵢ is predicted value and Y is actual value, n is total number of testing data)\n"
   ]
  },
  {
   "cell_type": "code",
   "execution_count": 162,
   "metadata": {},
   "outputs": [
    {
     "name": "stdout",
     "output_type": "stream",
     "text": [
      "9.73979405067225\n"
     ]
    }
   ],
   "source": [
    "error=0\n",
    "for i in range(len(y_pred)):\n",
    "    error+=pow(y_pred[i]-yTest[i],2)\n",
    "print(error/27)"
   ]
  },
  {
   "cell_type": "markdown",
   "metadata": {},
   "source": [
    "### Plotting the Graph\n",
    "- Curve trying to fit with the most of the actual value"
   ]
  },
  {
   "cell_type": "code",
   "execution_count": 163,
   "metadata": {},
   "outputs": [
    {
     "data": {
      "image/png": "[encoded data removed]",
      "text/plain": [
       "<Figure size 432x288 with 1 Axes>"
      ]
     },
     "metadata": {
      "needs_background": "light"
     },
     "output_type": "display_data"
    }
   ],
   "source": [
    "assume=[i for i in range(27)]\n",
    "plt.scatter(assume,yTest,c='r',label=\"Actual Value\")\n",
    "plt.plot(assume, y_pred, color = 'blue',label=\"Predicted Value\")\n",
    "plt.ylabel(\"Slowness in Traffic %\")\n",
    "plt.xlabel(\"Testing Dataset Index\")\n",
    "plt.legend(loc=1,borderaxespad=-5)\n",
    "plt.show()"
   ]
  },
  {
   "cell_type": "code",
   "execution_count": null,
   "metadata": {},
   "outputs": [],
   "source": []
  },
  {
   "cell_type": "code",
   "execution_count": null,
   "metadata": {},
   "outputs": [],
   "source": []
  }
 ],
 "metadata": {
  "kernelspec": {
   "display_name": "Python 3",
   "language": "python",
   "name": "python3"
  },
  "language_info": {
   "codemirror_mode": {
    "name": "ipython",
    "version": 3
   },
   "file_extension": ".py",
   "mimetype": "text/x-python",
   "name": "python",
   "nbconvert_exporter": "python",
   "pygments_lexer": "ipython3",
   "version": "3.6.5"
  }
 },
 "nbformat": 4,
 "nbformat_minor": 2
}
